{
  "nbformat": 4,
  "nbformat_minor": 0,
  "metadata": {
    "colab": {
      "name": "Markdown Rehberi.ipynb",
      "provenance": [],
      "collapsed_sections": [
        "I8DXssquF2wt",
        "gZwZmvMEGc6J",
        "KUPTW8K3h4TI",
        "H2pBRN9tBXxS",
        "jL9SQQnDi1Am",
        "lo5RYP9slqYL",
        "Cee750wMlvWm",
        "OUJ_mvITpXlQ",
        "yStB-v_D7Evh",
        "028MxQX3lTiX",
        "tdLMsjeUlxpV",
        "_9k5iqCYOIEM",
        "zT5WI4qMKx9n",
        "I47MPKy6pFPM",
        "zBP2P4ff2SVu"
      ],
      "include_colab_link": true
    },
    "kernelspec": {
      "name": "python3",
      "display_name": "Python 3"
    },
    "language_info": {
      "name": "python"
    }
  },
  "cells": [
    {
      "cell_type": "markdown",
      "metadata": {
        "id": "view-in-github",
        "colab_type": "text"
      },
      "source": [
        "<a href=\"https://colab.research.google.com/github/seccily/ColabTricks/blob/main/Markdown_Rehberi.ipynb\" target=\"_parent\"><img src=\"https://colab.research.google.com/assets/colab-badge.svg\" alt=\"Open In Colab\"/></a>"
      ]
    },
    {
      "cell_type": "markdown",
      "metadata": {
        "id": "7rYuJzEx19MM"
      },
      "source": [
        "#Markdown Nedir?\n",
        "---\n"
      ]
    },
    {
      "cell_type": "markdown",
      "metadata": {
        "id": "bReJhcx92EQn"
      },
      "source": [
        "<p align=\"justify\">2004 yılında John Gruber ve Aaron Swartz tarafından geliştirilen bir yazım formatıdır. En basit tanımıyla text-to-HTML yani yazıyı HTML'e çevirmemizi sağlar. Böylelikle örneğin Jupyter Notebook ve Colab üzerinde yazılan bir notebookun daha okunaklı bir hale gelmesi sağlanır.</p>\n",
        "\n",
        "<p align=\"justify\">Markdown formatı ile yazarken herhangi bir html etiketi yazmayız, markdown'ın syntax'ına uygun şekilde yazarız ve kulladığımız front-end ya da back-end dili ile bunu parse ederek html çıktısını alırız. Böylece yazan kişininde hata payı minimuma iner, daha okunaklı bir yazım tarzı oluşur.</p>"
      ]
    },
    {
      "cell_type": "markdown",
      "metadata": {
        "id": "KO7Ecjn93US3"
      },
      "source": [
        "> Markdown hakkında daha fazla bilgi için [Daring Fireball: Markdown](https://daringfireball.net/projects/markdown/) ve [Markdown Guide](https://www.markdownguide.org/) sitelerini ziyaret edebilirsiniz."
      ]
    },
    {
      "cell_type": "markdown",
      "metadata": {
        "id": "UZLcga6M2Exw"
      },
      "source": [
        "#Colab Markdown Örnekleri\n",
        "---\n",
        "Bir Colab Notebook'unda markdown oluşturulurken kullanılabilecek özel karakterler (`#`, `>` işaretleri vb.) olduğu gibi HTML tagleri ile de markdown oluşturulabilir. Burada her iki yönteme de yer vereceğiz."
      ]
    },
    {
      "cell_type": "markdown",
      "metadata": {
        "id": "-KgHHLXlxgzy"
      },
      "source": [
        "> **Not:** Bazı özelliklerin kullanımı için markdown gösterilememiştir. Bu durumlar için notebooku colab üzerinde açtıktan sonra ilgili hücreye çift tıklayarak markdownu incelenebilirsiniz."
      ]
    },
    {
      "cell_type": "markdown",
      "metadata": {
        "id": "39ivRYjs2K01"
      },
      "source": [
        "## Headings (Başlıklar)"
      ]
    },
    {
      "cell_type": "markdown",
      "metadata": {
        "id": "UrOXLGp73rWF"
      },
      "source": [
        "Colab üzerinde başlıklar seviyelerine göre # ile belirtilir. Hashtag sayısı ve başlığın büyüklüğü ters orantılıdır. Örneğin ana başlık verilmesi için `#Başlık` verilirken bir alt başlığı için `##Başlık` tagi verilir.\n",
        "\n",
        "> `#` işaretinin bu özelliğinden dolayı normal metin içerisinde kullanılacağı sırada başlık olarak algılanmaması için kaçış işareti olan `\\` işareti ile birlikte `\\#` şeklinde kullanılmalıdır. "
      ]
    },
    {
      "cell_type": "markdown",
      "metadata": {
        "id": "8hxCDm804Eie"
      },
      "source": [
        "\n",
        "\n",
        "```\n",
        "# Başlık1\n",
        "  ## Başlık2\n",
        "    ### Başlık3\n",
        "      #### Başlık4\n",
        "        ...\n",
        "```\n",
        "\n",
        "\n"
      ]
    },
    {
      "cell_type": "markdown",
      "metadata": {
        "id": "HNa-V1-85A2t"
      },
      "source": [
        "HTML dilinde başlıklar için `<h_>Başlık</h_>` tagi kullanılmaktadır. Bu tagde başlık seviyeleri sayılar ile belirtilmektedir. En büyük başlık seviyesi için `<h1>Başlık 1</h1>` tagi kullanılırken bir alt başlık seviyesi için `<h2>Başlık 2</h2>` tagi kullanılmaktadır."
      ]
    },
    {
      "cell_type": "markdown",
      "metadata": {
        "id": "izkUg7Jf6a2q"
      },
      "source": [
        "```\n",
        "<h1>Başlık 2</h1>\n",
        "  <h2>Başlık 2</h2> \n",
        "    <h3>Başlık 2</h3>\n",
        "      <h4>Başlık 2</h4>\n",
        "        ...  \n",
        "```"
      ]
    },
    {
      "cell_type": "markdown",
      "metadata": {
        "id": "gHg3A6oX2N-d"
      },
      "source": [
        "><p align=\"justify\"> Bu noktada Colab `#` kısayolu ile HTML tagi arasında bir farklılık ortaya çıkmaktadır. `#` kullanıldığında Colab yan menüsündeki içindekiler kısmından bir alt başlık sekmesi açar ve ayrıca başlık konulan hücreler o başlık altında toplanacak şekilde kutucuk halinde kısaltılabilir. Ancak HTML tagi kullanıldığında yalnızca metin puntolarının büyüklüğü değişmektedir.</p>"
      ]
    },
    {
      "cell_type": "markdown",
      "metadata": {
        "id": "ato3mkadb_ST"
      },
      "source": [
        "**NOT:** Colab'da metin hücresi açınca çıkan seçeneklerden de yararlanabiliriz:\n",
        "![punto](https://user-images.githubusercontent.com/56072259/126059118-aca9527a-f549-4395-bd51-3363402bac46.gif)"
      ]
    },
    {
      "cell_type": "markdown",
      "metadata": {
        "id": "0DQT2Xy1g6KQ"
      },
      "source": [
        "Ayrıca bu başlıklarla oluşturduğumuz 'İçindekiler' sayfasına da şöyle bakabiliriz:\n",
        "\n",
        "![içindekiler](https://user-images.githubusercontent.com/56072259/126059114-e84cd1e0-3375-4776-adbd-911707654871.gif)"
      ]
    },
    {
      "cell_type": "markdown",
      "metadata": {
        "id": "ULXVv8fEEFJr"
      },
      "source": [
        "## Bölüm Ayırıcı Çizgiler\n",
        "Yazdığımız bölümün bitişini/başlangıcını belirtici satır çizgileri"
      ]
    },
    {
      "cell_type": "markdown",
      "metadata": {
        "id": "_3yz78k0ENAI"
      },
      "source": [
        "`---` işaretiyle (3 adet -) veya `***` (3 adet *) veya `___` (3 adet _) kullanılmaktadır. \n",
        "\n",
        "---\n",
        "\n",
        "\n",
        "Yazılan bir metnin hemen alt satırında verilmesi, üstündeki satırın puntosunu büyütür ve çizgi gösterilmez. Puntosu büyütülen satır 2. seviye başlık olarak kabul edilir. Bu nedenle kullanılmadan önceki satır ile arasında 1 satır boşluk bırakılmalıdır.\n"
      ]
    },
    {
      "cell_type": "markdown",
      "metadata": {
        "id": "O8oQMeNlfBwO"
      },
      "source": [
        "**NOT:** Colab'da metin hücresi açınca çıkan seçeneklerden de yararlanabiliriz:\n",
        "\n",
        "![çizgi](https://user-images.githubusercontent.com/56072259/126059076-dea5dcc9-5b19-46f5-b37a-d69e0e3510c0.gif)"
      ]
    },
    {
      "cell_type": "markdown",
      "metadata": {
        "id": "BxE-j52D6l-Z"
      },
      "source": [
        "## Metin Özellikleri\n",
        "Kimi zaman görselleştirme amacıyla Word'de kullandığımız gibi karakterlerin italik, bold, üstü çizili vb. özelliklere sahip olmasını isteriz."
      ]
    },
    {
      "cell_type": "markdown",
      "metadata": {
        "id": "W-XJ2T8NFu33"
      },
      "source": [
        "### Metin tipi"
      ]
    },
    {
      "cell_type": "markdown",
      "metadata": {
        "id": "cF9m8Rdh6yjO"
      },
      "source": [
        "\n",
        "\n",
        "<h3>**Text**</h3> | <h3>**Colab Kısayolu**</h3> | <h3>**HTML**</h3>\n",
        "--- | --- | ---\n",
        "<p>**Bu text kalındır.**</p> | <p>`**Bu text kalındır.**`</p> <p>veya</p> <p>`__Bu text kalındır.__`</p>| <p>`<b>Bu text kalındır.</b>`</p>\n",
        "<p>*Bu text italiktir.*</p> |<p> `*Bu text italiktir.*`</p> <p>veya</p> <p>`_Bu text italiktir._`</p>  | <p>`<i>Bu text italiktir.</i>`</p>\n",
        "<p>~Bu textin üstü çizilidir.~</p> | <p>`~Bu textin üstü çizilidir.~`</p> | <p>`<s>Bu textin üstü çizilidir.</s>`</p>"
      ]
    },
    {
      "cell_type": "markdown",
      "metadata": {
        "id": "nyTqfYN-9Gtv"
      },
      "source": [
        "Bu özellikler birbiri içerisinde de kullanılabilir. Birkaç örnek verelim:\n",
        "\n",
        "\n",
        "<h3>**Text**</h3> | <h3>**Colab Kısayolu**</h3> | <h3>**HTML**</h3>\n",
        "--- | --- | ---\n",
        "<p>***Bu text kalın ve italiktir.***</p> | <p>`***Bu text kalın ve italiktir.***`</p> <p>veya</p> <p>`___Bu text kalın ve italiktir.___`</p>| <p>`<i><b>Bu text kalın ve italiktir.</b></i>`</p>\n",
        "<p>**~Bu text kalın ve üstü çizilidir.~**</p> | <p>`**~Bu text kalın ve üstü çizilidir.~**`</p> | <p>`<s><b>Bu text kalın ve üstü çizilidir.</b></s>`</p>\n",
        "<p>~***Bu text hem italik hem kalın hem de üstü çizilidir.***~</p> | <p>`~***Bu text hem italik hem kalın hem de üstü çizilidir.***~ .`</p> <p> veya</p> <p> `~___Bu text hem italik hem kalın hem de üstü çizilidir.___~ `</p>  | <p>`<b><s><i>Bu text hem italik hem kalın hem de üstü çizilidir.</i></s></b>`</p>"
      ]
    },
    {
      "cell_type": "markdown",
      "metadata": {
        "id": "OWKoiqQ-fmUA"
      },
      "source": [
        "**NOT:** Colab'da metin hücresi açınca çıkan seçeneklerden de yararlanabiliriz:\n",
        "Bold için:\n",
        "\n",
        "![bold](https://user-images.githubusercontent.com/56072259/126059064-f98e4a4e-8fd7-41d9-9d3f-02e0c57e4628.gif)\n",
        "\n",
        "İtalik için:\n",
        "\n",
        "![italik](https://user-images.githubusercontent.com/56072259/126059057-ea83dc27-9712-487f-b9a4-38fa9df4ca47.gif)"
      ]
    },
    {
      "cell_type": "markdown",
      "metadata": {
        "id": "I8DXssquF2wt"
      },
      "source": [
        "### Metin rengi ve highlight"
      ]
    },
    {
      "cell_type": "markdown",
      "metadata": {
        "id": "t6aXNi41F7Qb"
      },
      "source": [
        "Colab metnin renginin değişimi ve highlight eklenmesi için kısayol sunmamaktadır ancak bu değişimler HTML kullanılarak yapılabilir. \n"
      ]
    },
    {
      "cell_type": "markdown",
      "metadata": {
        "id": "gZwZmvMEGc6J"
      },
      "source": [
        "#### Metin rengi"
      ]
    },
    {
      "cell_type": "markdown",
      "metadata": {
        "id": "3VIKgTVXGe6A"
      },
      "source": [
        "Metnin rengi `<font color=\"renk_adı\"> metin </font>` tagi ile belirlenmektedir.\n",
        "\n",
        "<font color=\"red\"> kırmızı </font> <font color=\"cyan\"> turkuaz </font> <font color=\"orange\"> turuncu </font> <font color=\"pink\"> pembe </font>  <font color=\"DarkMagenta\"> magenta </font> <font color=\"DarkSeaGreen\"> yosun yeşili </font> \n",
        "\n",
        "Daha farklı renkler için https://www.w3schools.com/tags/ref_colornames.asp sitesini ziyaret edebilirsiniz.\n"
      ]
    },
    {
      "cell_type": "markdown",
      "metadata": {
        "id": "KUPTW8K3h4TI"
      },
      "source": [
        "#### Highlight"
      ]
    },
    {
      "cell_type": "markdown",
      "metadata": {
        "id": "uSqhCedOh2yw"
      },
      "source": [
        "Metine highlight eklemek için `<mark> metin </mark>` tagi kullanılmaktadır.\n",
        "\n",
        "Örneğin; <mark> Higlight edilmiş metin. </mark>"
      ]
    },
    {
      "cell_type": "markdown",
      "metadata": {
        "id": "H2pBRN9tBXxS"
      },
      "source": [
        "### Metin içerisinde kod yazma\n"
      ]
    },
    {
      "cell_type": "markdown",
      "metadata": {
        "id": "PkDnySZaBrC4"
      },
      "source": [
        "Metin içerisinde kod iki farklı türde yazılabilir. Bunlardan ilki metnin kod olduğunu vurgular şekilde metni kutucuk içerisinde belirtmek, diğeri ise yazılan kodun dili baz alınarak dile özgü renklendirmeler ile metni kutucuk içerisinde vurgulamaktır.\n",
        "\n",
        "Metin yalnızca kutucuk içerisinde belirtilecekse başına ve sonuna ` işareti koymak yeterli olacaktır. \n",
        "\n",
        "Örneğin; `Bu metin kutu içerisindedir.`\n",
        "\n",
        "Kimi durumda tek tırnak yeterli olmadığından 3 adet konulması tercih edilebilir. Örneğin yazılacak metin birden fazla satırdan oluşuyorsa bu yazım şekli tercih edilebilir. Bu durumda iki ayrı satıra üç adet ` konulur ve arada kalan satırlara ilgili metin yazılır.\n",
        "\n",
        "Örneğin; \n",
        "\n",
        "```\n",
        "Bu metin birkaç satırdan oluşmaktadır.\n",
        "Bu metin kutu içerisindedir.\n",
        "1\n",
        "2\n",
        "3\n",
        "```\n"
      ]
    },
    {
      "cell_type": "markdown",
      "metadata": {
        "id": "D0MmikUbDIm-"
      },
      "source": [
        "Yazılan kodun dili özelinde bir vurgulama yapılacaksa metnin başına ve sonuna üç adet ` işaretinin konulmasının yanı sıra ilk üçlü tırnaktan sonra yazılan dil belirtilir. Koyulan her üçlü tırnak kod metninden ayrı bir satırda yer almalıdır.\n",
        "\n",
        "Örneğin metin başlangıcı ```python ... şeklinde yazılır\n",
        "\n",
        "**Not:** Markdown olduğu için yalnızca görünüm biçimidir. Bu nedenle yazılan bu satır herhangi bir çalışır kod hücresi özelliği göstermez, derlenmez. \n",
        "\n",
        "Örneğin;\n",
        "```python\n",
        "print(\"Bu metin python dilinde gösterilmektedir.\")\n",
        "```\n",
        "\n",
        "```c\n",
        "printf(\"Bu metin C dilinde gösterilmektedir.\");\n",
        "```\n"
      ]
    },
    {
      "cell_type": "markdown",
      "metadata": {
        "id": "h0CSxwQafYJg"
      },
      "source": [
        "**NOT:** Colab'da metin hücresi açınca çıkan seçeneklerden de yararlanabiliriz:\n",
        "![kod](https://user-images.githubusercontent.com/56072259/126059085-ebfcece6-3ffd-4d60-9eaf-9f6f455d23bc.gif)"
      ]
    },
    {
      "cell_type": "markdown",
      "metadata": {
        "id": "jL9SQQnDi1Am"
      },
      "source": [
        "## Formüller ve Matematiksel İfadeler"
      ]
    },
    {
      "cell_type": "markdown",
      "metadata": {
        "id": "hXb_ZhcljILP"
      },
      "source": [
        "Colab metin içerisinde formüllere yer vermek için LateX'i desteklemektedir. Bu nedenle yazılmak istenen bir formül LateX formatında yazılmalı ve $ işaretleri arasında verilmelidir.\n",
        "\n",
        "Örneğin;  \n",
        "\n",
        "`$ y=x^2 $`\n",
        "\n",
        "$ y=x^2 $\n",
        "\n",
        "\n",
        "\n",
        "\n"
      ]
    },
    {
      "cell_type": "markdown",
      "metadata": {
        "id": "eSN89Neck6Wq"
      },
      "source": [
        "Başka bir örnek;\n",
        "\n",
        "```\n",
        "$A_{m,n} =\n",
        " \\begin{pmatrix}\n",
        "  a_{1,1} & a_{1,2} & \\cdots & a_{1,n} \\\\\n",
        "  a_{2,1} & a_{2,2} & \\cdots & a_{2,n} \\\\\n",
        "  \\vdots  & \\vdots  & \\ddots & \\vdots  \\\\\n",
        "  a_{m,1} & a_{m,2} & \\cdots & a_{m,n}\n",
        " \\end{pmatrix}$ \n",
        " ```\n",
        "\n",
        "\n",
        "$A_{m,n} =\n",
        " \\begin{pmatrix}\n",
        "  a_{1,1} & a_{1,2} & \\cdots & a_{1,n} \\\\\n",
        "  a_{2,1} & a_{2,2} & \\cdots & a_{2,n} \\\\\n",
        "  \\vdots  & \\vdots  & \\ddots & \\vdots  \\\\\n",
        "  a_{m,1} & a_{m,2} & \\cdots & a_{m,n}\n",
        " \\end{pmatrix}$"
      ]
    },
    {
      "cell_type": "markdown",
      "metadata": {
        "id": "pxDuSbr5j-Vz"
      },
      "source": [
        "Böyle daha karmaşık formüller ve matematiksel işlemler için online LateX matematiksel editörler kullanılabilir. Online LateX editörleri matematiksel işlemleri görüntülendiği gibi yazmanızı ve yazılan formülün LateX formatına dönüşümünü sağlar. [HostMath](https://www.hostmath.com/) veya [Online Latex Equation Editor](https://latex.codecogs.com/eqneditor/editor.php) sitelerinden yararlanabilirsiniz."
      ]
    },
    {
      "cell_type": "markdown",
      "metadata": {
        "id": "lo5RYP9slqYL"
      },
      "source": [
        "## Liste ve Madde İşaretleri\n"
      ]
    },
    {
      "cell_type": "markdown",
      "metadata": {
        "id": "Cee750wMlvWm"
      },
      "source": [
        "### Sıralı Liste"
      ]
    },
    {
      "cell_type": "markdown",
      "metadata": {
        "id": "8qqv3wUapXV4"
      },
      "source": [
        "Sıralı liste oluşturmanın en kolay yolu yazılacak her bir madde için satır başına sıra numarası ve nokta vermektir.\n",
        "\n",
        "Örneğin;\n",
        "```\n",
        "1. ilk madde\n",
        "2. İkinci madde\n",
        "3. Üçüncü madde\n",
        "```\n",
        "\n",
        "1. ilk madde\n",
        "2. İkinci madde\n",
        "3. Üçüncü madde"
      ]
    },
    {
      "cell_type": "markdown",
      "metadata": {
        "id": "HA4pvjiw4NTQ"
      },
      "source": [
        "HTML ile sıralı liste oluşturulmak istenirse:\n",
        "```\n",
        "<ol>\n",
        "<li>Birinci madde</li>\n",
        "<li>İkinci madde</li>\n",
        "<li>Üçüncü madde</li>\n",
        "</ol>\n",
        "```\n",
        "<ol>\n",
        "<li>Birinci madde</li>\n",
        "<li>İkinci madde</li>\n",
        "<li>Üçüncü madde</li>\n",
        "</ol>"
      ]
    },
    {
      "cell_type": "markdown",
      "metadata": {
        "id": "JD27LaCbqdo5"
      },
      "source": [
        "İç içe liste oluşturmak için ise tab tuşundan yararlanılır. Satır başına tab verilerek bir alt madde oluşturulabilir. \n",
        "\n",
        "Örneğin;\n",
        "```\n",
        "1. Madde 1\n",
        "  1. Alt madde 1\n",
        "  2. Alt madde 2\n",
        "  3. Alt madde 3\n",
        "2. Madde 2\n",
        "  1. Alt madde1\n",
        "```\n",
        "\n",
        "1. Madde 1\n",
        "  1. Alt madde 1\n",
        "  2. Alt madde 2\n",
        "  3. Alt madde 3\n",
        "2. Madde 2\n",
        "  1. Alt madde1\n"
      ]
    },
    {
      "cell_type": "markdown",
      "metadata": {
        "id": "-xtyc3CC58Og"
      },
      "source": [
        "HTML ile iç içe sıralı liste oluşturmak için:\n",
        "```\n",
        "<ol>\n",
        "<li>Madde 1</li>\n",
        "  <ol>\n",
        "  <li>Alt madde 1</li>\n",
        "  <li>Alt madde 2</li>\n",
        "  <li>Alt madde 3</li>\n",
        "  </ol>\n",
        "<li>Madde 2</li>\n",
        "  <ol>\n",
        "  <li>Alt madde 1</li>\n",
        "  </ol>\n",
        "</ol>\n",
        "```\n",
        "<ol>\n",
        "<li>Madde 1</li>\n",
        "  <ol>\n",
        "  <li>Alt madde 1</li>\n",
        "  <li>Alt madde 2</li>\n",
        "  <li>Alt madde 3</li>\n",
        "  </ol>\n",
        "<li>Madde 2</li>\n",
        "  <ol>\n",
        "  <li>Alt madde 1</li>\n",
        "  </ol>\n",
        "</ol>"
      ]
    },
    {
      "cell_type": "markdown",
      "metadata": {
        "id": "Oa3PJXtngIrj"
      },
      "source": [
        "**NOT:** Colab'da metin hücresi açınca çıkan seçeneklerden de yararlanabiliriz:\n",
        "\n",
        "![sıralı](https://user-images.githubusercontent.com/56072259/126059073-89f23b5a-9322-4794-9f11-9eec9924c312.gif)"
      ]
    },
    {
      "cell_type": "markdown",
      "metadata": {
        "id": "OUJ_mvITpXlQ"
      },
      "source": [
        "### Sırasız Liste"
      ]
    },
    {
      "cell_type": "markdown",
      "metadata": {
        "id": "e9FbrRAOpdZv"
      },
      "source": [
        "Sıralı liste oluşturmanın en kolay yolu yazılacak her bir madde için satır başına yıldız işareti koymaktır.\n",
        "\n",
        "\n",
        "Örneğin;\n",
        "```\n",
        "* Birinci madde\n",
        "* İkinci madde\n",
        "* Üçüncü madde\n",
        "```\n",
        "\n",
        "* Birinci madde\n",
        "* İkinci madde\n",
        "* Üçüncü madde"
      ]
    },
    {
      "cell_type": "markdown",
      "metadata": {
        "id": "ZImZ-U8r5Y45"
      },
      "source": [
        "HTML ile sırasız liste oluşturmak istenirse:\n",
        "```\n",
        "<ul>\n",
        "<li>Birinci madde</li>\n",
        "<li>İkinci madde</li>\n",
        "<li>Üçüncü madde</li>\n",
        "</ul>\n",
        "```\n",
        "<ul>\n",
        "<li>Birinci madde</li>\n",
        "<li>İkinci madde</li>\n",
        "<li>Üçüncü madde</li>\n",
        "</ul>"
      ]
    },
    {
      "cell_type": "markdown",
      "metadata": {
        "id": "j459vMZRqK2W"
      },
      "source": [
        "İç içe liste oluşturmak için ise tab tuşundan yararlanılır. Satır başına tab verilerek bir alt madde oluşturulabilir. \n",
        "\n",
        "Örneğin;\n",
        "```\n",
        "* Birinci madde\n",
        "  * İkinci madde\n",
        "    * Üçüncü madde\n",
        "```\n",
        "* Birinci madde\n",
        "  * İkinci madde\n",
        "    * Üçüncü madde\n"
      ]
    },
    {
      "cell_type": "markdown",
      "metadata": {
        "id": "f89N81wX6dM8"
      },
      "source": [
        "HTML ile sırasız içe içe liste yapmak için:\n",
        "``` \n",
        "<ul>\n",
        "<li>Birinci madde</li>\n",
        "  <ul>\n",
        "  <li>İkinci madde</li>\n",
        "    <ul>\n",
        "    <li>Üçüncü madde</li>\n",
        "    </ul>\n",
        "  </ul>\n",
        "</ul>\n",
        "```\n",
        "<ul>\n",
        "<li>Birinci madde</li>\n",
        "  <ul>\n",
        "  <li>İkinci madde</li>\n",
        "    <ul>\n",
        "    <li>Üçüncü madde</li>\n",
        "    </ul>\n",
        "  </ul>\n",
        "</ul>"
      ]
    },
    {
      "cell_type": "markdown",
      "metadata": {
        "id": "vR2d2jxTgPx8"
      },
      "source": [
        "**NOT:** Colab'da metin hücresi açınca çıkan seçeneklerden de yararlanabiliriz:\n",
        "\n",
        "![sırasız](https://user-images.githubusercontent.com/56072259/126059072-6cca98aa-412b-46b8-add4-61d60e2af4f1.gif)"
      ]
    },
    {
      "cell_type": "markdown",
      "metadata": {
        "id": "yStB-v_D7Evh"
      },
      "source": [
        "### Karışık Liste"
      ]
    },
    {
      "cell_type": "markdown",
      "metadata": {
        "id": "8rS8q5UD7IEG"
      },
      "source": [
        "Bu iki liste tipini birleştirerek de kullanabiliriz:\n",
        "```\n",
        "1. Sıralı madde 1\n",
        "2. Sıralı madde 2  \n",
        "* Sırasız madde 1\n",
        "  * Sırasız alt madde 1\n",
        "    1. Sıralı alt madde 1\n",
        "    1. Sıralı alt madde 2\n",
        "  * Sırasız alt madde 2\n",
        "* Sırasız madde 2\n",
        "3. Sıralı madde 3\n",
        "```\n",
        "\n",
        "\n",
        "1. Sıralı madde 1\n",
        "2. Sıralı madde 2  \n",
        "* Sırasız madde 1\n",
        "  * Sırasız alt madde 1\n",
        "    1. Sıralı alt madde 1\n",
        "    1. Sıralı alt madde 2\n",
        "  * Sırasız alt madde 2\n",
        "* Sırasız madde 2\n",
        "3. Sıralı madde 3"
      ]
    },
    {
      "cell_type": "markdown",
      "metadata": {
        "id": "028MxQX3lTiX"
      },
      "source": [
        "## Tablo Oluşturmak"
      ]
    },
    {
      "cell_type": "markdown",
      "metadata": {
        "id": "AlTNnSbGl5x6"
      },
      "source": [
        "Colab üzerinde tablo oluşturulurken `|`, `-` ve `:` sembollerinden yararlanılır. Tablolar bir nevi `|` ve `-` yardımıyla görsel olarak oluşturulur, `:` işareti ile metinin ortalı/sağa dayalı/sola dayalı özellikleri belirtilir ve gerisini Colab halleder.\n"
      ]
    },
    {
      "cell_type": "markdown",
      "metadata": {
        "id": "jxVX3ReOoH6k"
      },
      "source": [
        "`:---` veya `---` = sola dayalı\n",
        "\n",
        "`---:` = sağa dayalı\n",
        "\n",
        "`:---:` = ortalı"
      ]
    },
    {
      "cell_type": "markdown",
      "metadata": {
        "id": "s3vJ-gIqmq4a"
      },
      "source": [
        "\n",
        "Örneğin;\n",
        "```\n",
        "|Başlık 1|Başlık 2|Başlık 3|\n",
        "|:------:|:------:|:------:|\n",
        "|A       |B       |C       |\n",
        "|X       |Y       |Z       |\n",
        "\n",
        "```\n",
        "|Başlık 1|Başlık 2|Başlık 3|\n",
        "|:------:|:------:|:------:|\n",
        "|A       |B       |C       |\n",
        "|X       |Y       |Z       |\n",
        "\n"
      ]
    },
    {
      "cell_type": "markdown",
      "metadata": {
        "id": "5kHy-osk3fH4"
      },
      "source": [
        "HTML kullanılarak da tablo oluşturulabilir.\n",
        "\n",
        "Örneğin;\n",
        "```\n",
        "<table>\n",
        "<thead>\n",
        "<tr><th>Başlık 1</th><th>Başlık 2</th><th>Başlık 3</th></tr>\n",
        "</thead>\n",
        "<tbody>\n",
        "<tr><td>A</td><td>B</td><td>C</td></tr>\n",
        "<tr><td>X</td><td>Y</td><td>Z</td></tr>\n",
        "</tbody>\n",
        "</table>\n",
        "```\n",
        "<table>\n",
        "<thead>\n",
        "<tr><th>Başlık 1</th><th>Başlık 2</th><th>Başlık 3</th></tr>\n",
        "</thead>\n",
        "<tbody>\n",
        "<tr><td>A</td><td>B</td><td>C</td></tr>\n",
        "<tr><td>X</td><td>Y</td><td>Z</td></tr>\n",
        "</tbody>\n",
        "</table>"
      ]
    },
    {
      "cell_type": "markdown",
      "metadata": {
        "id": "tdLMsjeUlxpV"
      },
      "source": [
        "## Resim ve Link Eklemek\n"
      ]
    },
    {
      "cell_type": "markdown",
      "metadata": {
        "id": "2no-MN1ol4cU"
      },
      "source": [
        "<p align= \"justify\"> Resim/gif eklemek için `![\"resim açıklaması\"](resim linki)` yazım şeklinden yararlanılır. Burada resim açıklaması resim görüntülenmediğinde resmin anlatılabilmesi için tercih edilen metindir. Resim görüntülenebiliyorsa bu metin görüntülenmez. </p>\n",
        "\n",
        "<p align= \"justify\"> Resim linki web üzerinden bir link olabileceği gibi drive üzerinden alınmış resmin linki de olabilir. Drive üzerinden alınacak bir görsel için alınan görselin herkese açık olmasına dikkat edilmelidir. </p>\n",
        "\n",
        "`![](https://i.giphy.com/media/xMGh0bajSyNdC/200.gif)`\n",
        "\n",
        "![\"Michael Scott\"](https://i.giphy.com/media/xMGh0bajSyNdC/200.gif)\n"
      ]
    },
    {
      "cell_type": "markdown",
      "metadata": {
        "id": "1pPt2lkol4_Y"
      },
      "source": [
        "Tıklanabilir bir metin oluşturup üzerine link eklenmesi de resime benzer şekilde yapılmaktadır. Bunun için ```[Metin](link)``` yazım şeklinden yararlanılmaktadır.\n",
        "\n",
        "Örneğin;\n",
        "\n",
        "```[Deeper Deep Learning TR](https://medium.com/deeper-deep-learning-tr)``` --> [Deeper Deep Learning TR](https://medium.com/deeper-deep-learning-tr)"
      ]
    },
    {
      "cell_type": "markdown",
      "metadata": {
        "id": "rLMY3wDgKpRo"
      },
      "source": [
        "> Resim ve link HTML ile de aynı yazım şekli ile verilir."
      ]
    },
    {
      "cell_type": "markdown",
      "metadata": {
        "id": "4RwqqwpsgdKA"
      },
      "source": [
        "**NOT:** Colab'da metin hücresi açınca çıkan seçeneklerden de yararlanabiliriz:\n",
        "\n",
        "![link](https://user-images.githubusercontent.com/56072259/126059074-c4929bb4-5e40-4fb3-84c0-d1d16093147e.gif)"
      ]
    },
    {
      "cell_type": "markdown",
      "metadata": {
        "id": "_9k5iqCYOIEM"
      },
      "source": [
        "## Tik Kutusu"
      ]
    },
    {
      "cell_type": "markdown",
      "metadata": {
        "id": "0fbCQEZfN7DD"
      },
      "source": [
        "Bir tik kutusu oluşturmak için `- [ ]` ve içi dolu olması için `- [x]` markdownundan yararlanılmaktadır.\n",
        "\n",
        "Örneğin:\n",
        "```\n",
        "- [x] Yapılan bir iş\n",
        "- [ ] Yapılmamış bir iş \n",
        "```\n",
        "- [x] Yapılan bir iş\n",
        "- [ ] Yapılmamış bir iş"
      ]
    },
    {
      "cell_type": "markdown",
      "metadata": {
        "id": "zT5WI4qMKx9n"
      },
      "source": [
        "## Alıntı / Girinti Metni"
      ]
    },
    {
      "cell_type": "markdown",
      "metadata": {
        "id": "EtECiaPnK5wk"
      },
      "source": [
        "Metinin girinti şeklinde olması için `>`işaretinden yararlanılmaktadır. Eklenen sembol sayısı arttıkça aynı başlıkta olduğu gibi bir alt girinti oluşturulmaktadır.\n",
        "\n",
        "Örneğin;`\n",
        "\n",
        "`> Bu bir girintili metindir.`\n",
        "> Bu bir girintili metindir.\n",
        "\n",
        "`>> Bu iç içe bir girinti oluşturma şeklidir.`\n",
        ">> Bu iç içe bir girinti oluşturma şeklidir.\n",
        "\n",
        "`>>> Bu iç içe bir girinti oluşturma şeklidir.`\n",
        ">>> Bu iç içe bir girinti oluşturma şeklidir."
      ]
    },
    {
      "cell_type": "markdown",
      "metadata": {
        "id": "MjgHYsi3glWt"
      },
      "source": [
        "**NOT:** Colab'da metin hücresi açınca çıkan seçeneklerden de yararlanabiliriz:\n",
        "\n",
        "![girinti](https://user-images.githubusercontent.com/56072259/126059068-40e41766-610d-46ee-a955-14eb9f73e0fd.gif)"
      ]
    },
    {
      "cell_type": "markdown",
      "metadata": {
        "id": "I47MPKy6pFPM"
      },
      "source": [
        "## #@ operatörü"
      ]
    },
    {
      "cell_type": "markdown",
      "metadata": {
        "id": "lJ3uAkFqyIJG"
      },
      "source": [
        "Bu iki sembol kullanılarak kod ve text hücrelerinin birlikte kullanımı sağlanabilmektedir. Bu iki sembol üç farklı kullanım sunmaktadır:\n",
        "\n",
        "1. `#@title:` Kod hücresinin yanına başlık açma imkanı sunmaktadır. Açılan bu başlık colab'in içindekiler listesinde de görülebilir.\n",
        "\n",
        "2. `#@markdown:` Kod hücresinin yanına metin yazma imkanı sunar.\n",
        "\n",
        "3. `#@param:` Kod hücresi içerisinde yer alan parametrelerin kod satırından değişimi yerine yanda açılan text alanından ayarlanabilmesini sağlar.\n",
        "\n"
      ]
    },
    {
      "cell_type": "code",
      "metadata": {
        "colab": {
          "base_uri": "https://localhost:8080/"
        },
        "id": "8CXK2O1QydPr",
        "outputId": "68580c8e-7980-4fab-f122-5e60027c624a"
      },
      "source": [
        "#@title Başlık ve metin:\n",
        "#@markdown Burada bir kod hücresinin yanına başlık ve metin yazdık.\n",
        "\n",
        "print(\"Hello world!\")\n",
        "\n"
      ],
      "execution_count": null,
      "outputs": [
        {
          "output_type": "stream",
          "text": [
            "Hello world!\n"
          ],
          "name": "stdout"
        }
      ]
    },
    {
      "cell_type": "markdown",
      "metadata": {
        "id": "bVHYQJdj0NS3"
      },
      "source": [
        "\\#@param ifadesi için çeşitli alt özellikler bulunmaktadır. Seçilen input tipi kaydırmalı çubuk (slider) üzerinden, açılır alt menüden (dropdown) seçilebilir özellikte olabilir veya direkt kullanıcan manuel input olarak alınabilir. param ifadesi kullanılacağı zaman mutlaka değer atılmış bir değişkenin yanına yazılmalıdır. Atanan değer, kullanıcıdan input alınmadığı durumlarda baz alınacak default değerdir.\n",
        "\n",
        "> param özellikleri yanda açılan text kutucuğunun yanında bulunan kalem işaretinden faydalınarak düzenlenebilir."
      ]
    },
    {
      "cell_type": "code",
      "metadata": {
        "id": "T2GTjbee0W5r"
      },
      "source": [
        "#@title dropdown:\n",
        "x = 6 #@param [\"5\", \"6\", \"7\"] {type:\"raw\"}"
      ],
      "execution_count": null,
      "outputs": []
    },
    {
      "cell_type": "code",
      "metadata": {
        "id": "qGAXS2rA0v3P"
      },
      "source": [
        "#@title slider:\n",
        "x = 57 #@param {type:\"slider\", min:0, max:100, step:1}"
      ],
      "execution_count": null,
      "outputs": []
    },
    {
      "cell_type": "code",
      "metadata": {
        "id": "2pg8ieaZ00Lm"
      },
      "source": [
        "#@title input:\n",
        "tarih = \"2021-07-17\" #@param {type:\"date\"}\n",
        "\n",
        "integer_sayi = 15 #@param {type:\"integer\"}\n",
        "\n",
        "sayi =  -128 #@param {type:\"number\"}\n",
        "\n",
        "string = \"Hello world!\" #@param {type:\"string\"}\n",
        "\n",
        "boolean = False #@param {type:\"boolean\"}\n",
        "\n",
        "#@markdown Alınan inputun belirli bir tipi olması şart değildir.\n",
        "#@markdown Alınacak input direkt yazıldığı gibi de alınabilir:\n",
        "rawinput = 1, 2, 2, 4 #@param {type:\"raw\"}"
      ],
      "execution_count": null,
      "outputs": []
    },
    {
      "cell_type": "markdown",
      "metadata": {
        "id": "zBP2P4ff2SVu"
      },
      "source": [
        "#Kaynaklar\n",
        "---"
      ]
    },
    {
      "cell_type": "markdown",
      "metadata": {
        "id": "HJeupPwC3Q4M"
      },
      "source": [
        "* [Learn How to Write Markdown & LaTeX in The Jupyter Notebook](https://towardsdatascience.com/write-markdown-latex-in-the-jupyter-notebook-10985edb91fd)\n",
        "\n",
        "* [The Ultimate Markdown Guide (for Jupyter Notebook)](https://medium.com/analytics-vidhya/the-ultimate-markdown-guide-for-jupyter-notebook-d5e5abf728fd)"
      ]
    },
    {
      "cell_type": "markdown",
      "metadata": {
        "id": "0z6kdS4CL_LI"
      },
      "source": [
        "# Bize Ulaşın!!"
      ]
    },
    {
      "cell_type": "markdown",
      "metadata": {
        "id": "rbkluBN3MB1o"
      },
      "source": [
        "Semih GÜLÜM\n",
        "\n",
        "---\n",
        "\n",
        "[<img src=\"https://simpleicons.org/icons/linkedin.svg\" height=\"20em\" align=\"center\" />](https://www.linkedin.com/in/semih-gulum/)\n",
        "[<img src=\"https://simpleicons.org/icons/gmail.svg\" height=\"20em\" align=\"center\" />](mailto:sgulum98@gmail.com)\n",
        "[<img src=\"https://simpleicons.org/icons/github.svg\" height=\"20em\" align=\"center\" />](https://semihstp.github.io/)"
      ]
    },
    {
      "cell_type": "markdown",
      "metadata": {
        "id": "YXsJmAUvtMh0"
      },
      "source": [
        "Seçilay KUTAL\n",
        "\n",
        "---\n",
        "\n",
        "[<img src=\"https://simpleicons.org/icons/linkedin.svg\" height=\"20em\" align=\"center\" />](https://www.linkedin.com/in/se%C3%A7ilay-kutal-111b27154/)\n",
        "[<img src=\"https://simpleicons.org/icons/gmail.svg\" height=\"20em\" align=\"center\" />](mailto:secilaykutal99@gmail.com)\n",
        "[<img src=\"https://simpleicons.org/icons/github.svg\" height=\"20em\" align=\"center\" />](https://github.com/seccily)\n",
        "\n"
      ]
    }
  ]
}