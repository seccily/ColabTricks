{
  "nbformat": 4,
  "nbformat_minor": 0,
  "metadata": {
    "colab": {
      "name": "HackerrankNumpyQ&A.ipynb",
      "provenance": [],
      "collapsed_sections": [
        "NBDPFajCAUyU"
      ],
      "authorship_tag": "ABX9TyOQ0R5guqTMS5pzEK6waxB+",
      "include_colab_link": true
    },
    "kernelspec": {
      "name": "python3",
      "display_name": "Python 3"
    },
    "language_info": {
      "name": "python"
    }
  },
  "cells": [
    {
      "cell_type": "markdown",
      "metadata": {
        "id": "view-in-github",
        "colab_type": "text"
      },
      "source": [
        "<a href=\"https://colab.research.google.com/github/seccily/ColabTricks/blob/main/Patika/hafta3_PythonNumpy/HackerrankNumpyQ%26A.ipynb\" target=\"_parent\"><img src=\"https://colab.research.google.com/assets/colab-badge.svg\" alt=\"Open In Colab\"/></a>"
      ]
    },
    {
      "cell_type": "markdown",
      "metadata": {
        "id": "-OjZYBCfJgPr"
      },
      "source": [
        "**NOTE:** This notebook contains answers of Numpy questions on [Hackerrank](https://www.hackerrank.com/) website."
      ]
    },
    {
      "cell_type": "markdown",
      "metadata": {
        "id": "7WaE5Dhq89LO"
      },
      "source": [
        "# 1. [Arrays](https://www.hackerrank.com/challenges/np-arrays/problem)"
      ]
    },
    {
      "cell_type": "markdown",
      "metadata": {
        "id": "LPURlxgx9YYH"
      },
      "source": [
        "The NumPy (Numeric Python) package helps us manipulate large arrays and matrices of numeric data.\n",
        "\n",
        "To use the NumPy module, we need to import it using:\n",
        "```python\n",
        "import numpy\n",
        "```\n",
        "> **Arrays**\n",
        "\n",
        "A NumPy array is a grid of values. They are similar to lists, except that every element of an array must be the same type.\n",
        "```python\n",
        "import numpy\n",
        "\n",
        "a = numpy.array([1,2,3,4,5])\n",
        "print a[1]          #2\n",
        "\n",
        "b = numpy.array([1,2,3,4,5],float)\n",
        "print b[1]          #2.0\n",
        "```\n",
        "In the above example, numpy.array() is used to convert a list into a NumPy array. The second argument (float) can be used to set the type of array elements.\n",
        "---\n",
        "> **Task**\n",
        "\n",
        "You are given a space separated list of numbers.\n",
        "Your task is to print a reversed NumPy array with the element type float.\n",
        "\n",
        "* Input Format: ` A single line of input containing space separated numbers.`\n",
        "\n",
        "* Output Format: `Print the reverse NumPy array with type float.`\n",
        "\n",
        "* Sample Input:  `1 2 3 4 -8 -10`\n",
        "\n",
        "* Sample Output ` [-10.  -8.   4.   3.   2.   1.]`"
      ]
    },
    {
      "cell_type": "markdown",
      "metadata": {
        "id": "NBDPFajCAUyU"
      },
      "source": [
        "Answer:\n",
        "---"
      ]
    },
    {
      "cell_type": "markdown",
      "metadata": {
        "id": "XGj_Fl2G-v0w"
      },
      "source": [
        "Importing numpy:"
      ]
    },
    {
      "cell_type": "code",
      "metadata": {
        "id": "ort5l5Up-y3w"
      },
      "source": [
        "import numpy"
      ],
      "execution_count": null,
      "outputs": []
    },
    {
      "cell_type": "markdown",
      "metadata": {
        "id": "DgtK3Pf2-0Ji"
      },
      "source": [
        "Defining a function which reverses the input array:"
      ]
    },
    {
      "cell_type": "code",
      "metadata": {
        "id": "iT120WKE--ad"
      },
      "source": [
        "# this function returns the input array in reversed and float format \n",
        "# arr[::-1] --> this reverses the array\n",
        "# dtype = \"float\" --> this returns the array as float data type\n",
        "\n",
        "def arrays(arr):\n",
        "    return numpy.array(arr[::-1], dtype = \"float\") "
      ],
      "execution_count": 2,
      "outputs": []
    },
    {
      "cell_type": "code",
      "metadata": {
        "colab": {
          "base_uri": "https://localhost:8080/"
        },
        "id": "dwfHcrOL8oyW",
        "outputId": "f50abfcc-3ae1-44b5-f244-ca2c0aea2ced"
      },
      "source": [
        "arr = input().strip().split(' ') # taking input array from user and splitting it with space character\n",
        "\n",
        "result = arrays(arr) # passing the input array to arrays() function for reversing process\n",
        "\n",
        "print(result) # printing the result"
      ],
      "execution_count": 1,
      "outputs": [
        {
          "output_type": "stream",
          "text": [
            "1 2 3 4 -8 -10\n",
            "[-10.  -8.   4.   3.   2.   1.]\n"
          ],
          "name": "stdout"
        }
      ]
    },
    {
      "cell_type": "markdown",
      "metadata": {
        "id": "mkbwXRguDTrK"
      },
      "source": [
        "# 2. [Concatenate](https://www.hackerrank.com/challenges/np-concatenate/problem)\n"
      ]
    },
    {
      "cell_type": "markdown",
      "metadata": {
        "id": "LZEIevlOAK9d"
      },
      "source": [
        "Two or more arrays can be concatenated together using the concatenate function with a tuple of the arrays to be joined:\n",
        "```python\n",
        "import numpy\n",
        "\n",
        "array_1 = numpy.array([1,2,3])\n",
        "array_2 = numpy.array([4,5,6])\n",
        "array_3 = numpy.array([7,8,9])\n",
        "\n",
        "print numpy.concatenate((array_1, array_2, array_3))    \n",
        "```\n",
        "**Output:** \n",
        "`[1 2 3 4 5 6 7 8 9] `\n",
        "\n",
        "If an array has more than one dimension, it is possible to specify the axis along which multiple arrays are concatenated. By default, it is along the first dimension.\n",
        "```python\n",
        "import numpy\n",
        "\n",
        "array_1 = numpy.array([[1,2,3],[0,0,0]])\n",
        "array_2 = numpy.array([[0,0,0],[7,8,9]])\n",
        "\n",
        "print numpy.concatenate((array_1, array_2), axis = 1)   \n",
        "```\n",
        "**Output**:\n",
        "```\n",
        "[[1 2 3 0 0 0]\n",
        " [0 0 0 7 8 9]]     \n",
        "``` \n",
        "---\n",
        "> **Task**\n",
        "\n",
        "You are given two integer arrays of size N X P and M X P ( &  are rows, and P is the column). Your task is to concatenate the arrays along axis 0.\n",
        "\n",
        "* **Input Format:**\n",
        "```\n",
        "The first line contains space separated integers N, M  and P.\n",
        "The next N lines contains the space separated elements of the  columns.\n",
        "After that, the next M lines contains the space separated elements of the  columns.\n",
        "``` \n",
        "* **Output Format:**\n",
        "\n",
        "  ```Print the concatenated array of size (N+M) X P.```\n",
        "\n",
        "* **Sample Input:**\n",
        "```\n",
        "4 3 2\n",
        "1 2\n",
        "1 2 \n",
        "1 2\n",
        "1 2\n",
        "3 4\n",
        "3 4\n",
        "3 4 \n",
        "```\n",
        "\n",
        "* **Sample Output:**\n",
        "```\n",
        "[[1 2]\n",
        " [1 2]\n",
        " [1 2]\n",
        " [1 2]\n",
        " [3 4]\n",
        " [3 4]\n",
        " [3 4]] \n",
        " ```"
      ]
    },
    {
      "cell_type": "markdown",
      "metadata": {
        "id": "iy6r3ymYBc4S"
      },
      "source": [
        "Answer:\n",
        "---"
      ]
    },
    {
      "cell_type": "code",
      "metadata": {
        "id": "zHsNkI5BBX7s"
      },
      "source": [
        "# importing numpy:\n",
        "import numpy as np"
      ],
      "execution_count": 5,
      "outputs": []
    },
    {
      "cell_type": "code",
      "metadata": {
        "colab": {
          "base_uri": "https://localhost:8080/"
        },
        "id": "xZmJh7rU-mY-",
        "outputId": "bb48ebe7-43c7-470e-926c-4e317ac68250"
      },
      "source": [
        "# taking 3 integer inputs from user for defining the shapes of arrays and splitting it:\n",
        "n, m, p = map(int, input().split()) \n",
        "\n",
        "# defining 2 empty lists for creating arrays:\n",
        "arr1_list = []\n",
        "arr2_list = []\n",
        "\n",
        "# appending first n integers into arr1_list for array1:\n",
        "for _ in range(n):\n",
        "    arr1_list.append(list(map(int, input().split())))\n",
        "    \n",
        "# after first n integers appending m integers into arr2_list for array2:\n",
        "for _ in range(m):\n",
        "    arr2_list.append(list(map(int, input().split())))\n",
        "    \n",
        "# first concatenating array1 and array2 lists along axis 0 then printing the result:\n",
        "print(np.concatenate((arr1_list, arr2_list), axis = 0))\n"
      ],
      "execution_count": 4,
      "outputs": [
        {
          "output_type": "stream",
          "text": [
            "4 3 2\n",
            "1 2\n",
            "1 2\n",
            "1 2\n",
            "1 2\n",
            "3 4\n",
            "3 4\n",
            "3 4\n",
            "[[1 2]\n",
            " [1 2]\n",
            " [1 2]\n",
            " [1 2]\n",
            " [3 4]\n",
            " [3 4]\n",
            " [3 4]]\n"
          ],
          "name": "stdout"
        }
      ]
    },
    {
      "cell_type": "markdown",
      "metadata": {
        "id": "jPYChWCHC-Fp"
      },
      "source": [
        "# 3. [Min and Max](https://www.hackerrank.com/challenges/np-min-and-max/problem) "
      ]
    },
    {
      "cell_type": "markdown",
      "metadata": {
        "id": "l8_B029vDXuM"
      },
      "source": [
        "## **min**\n",
        "\n",
        "The tool min returns the minimum value along a given axis.\n",
        "```python\n",
        "import numpy\n",
        "\n",
        "my_array = numpy.array([[2, 5], \n",
        "                        [3, 7],\n",
        "                        [1, 3],\n",
        "                        [4, 0]])\n",
        "\n",
        "print numpy.min(my_array, axis = 0)         #Output : [1 0]\n",
        "print numpy.min(my_array, axis = 1)         #Output : [2 3 1 0]\n",
        "print numpy.min(my_array, axis = None)      #Output : 0\n",
        "print numpy.min(my_array)                   #Output : 0\n",
        "```\n",
        "\n",
        "By default, the axis value is None. Therefore, it finds the minimum over all the dimensions of the input array.\n",
        "\n",
        "## **max**\n",
        "\n",
        "The tool max returns the maximum value along a given axis.\n",
        "```python\n",
        "import numpy\n",
        "\n",
        "my_array = numpy.array([[2, 5], \n",
        "                        [3, 7],\n",
        "                        [1, 3],\n",
        "                        [4, 0]])\n",
        "\n",
        "print numpy.max(my_array, axis = 0)         #Output : [4 7]\n",
        "print numpy.max(my_array, axis = 1)         #Output : [5 7 3 4]\n",
        "print numpy.max(my_array, axis = None)      #Output : 7\n",
        "print numpy.max(my_array)                   #Output : 7\n",
        "```\n",
        "By default, the axis value is None. Therefore, it finds the maximum over all the dimensions of the input array.\n",
        "\n",
        "---\n",
        "> **Task**\n",
        "\n",
        "You are given a 2-D array with dimensions N X M.\n",
        "Your task is to perform the min function over axis 1 and then find the max of that.\n",
        "\n",
        "* **Input Format:**\n",
        "```\n",
        "The first line of input contains the space separated values of N and M.\n",
        "The next N lines contains M space separated integers.\n",
        "```\n",
        "* **Output Format:**\n",
        "```\n",
        "Compute the min along axis 1 and then print the max of that result.\n",
        "```\n",
        "* **Sample Input:**\n",
        "```\n",
        "4 2\n",
        "2 5\n",
        "3 7\n",
        "1 3\n",
        "4 0\n",
        "```\n",
        "* **Sample Output:**\n",
        "```\n",
        "3\n",
        "```\n",
        "* **Explanation:**\n",
        "```\n",
        "The min along axis 1 = [2, 3, 1, 0] \n",
        "The max of [2, 3, 1, 0] = 3 \n",
        "```"
      ]
    },
    {
      "cell_type": "markdown",
      "metadata": {
        "id": "A4h1xyvWEKSJ"
      },
      "source": [
        "Answer:\n",
        "---"
      ]
    },
    {
      "cell_type": "code",
      "metadata": {
        "id": "3mEk3ejnEL9w"
      },
      "source": [
        "# importing numpy:\n",
        "import numpy as np"
      ],
      "execution_count": null,
      "outputs": []
    },
    {
      "cell_type": "code",
      "metadata": {
        "colab": {
          "base_uri": "https://localhost:8080/"
        },
        "id": "DxaA2Q0ICFwZ",
        "outputId": "f36dc956-e637-429e-8fe4-a27c96d16a7a"
      },
      "source": [
        "# defining an empty list for creating array:\n",
        "arr_list = []\n",
        "\n",
        "# taking 2 integer inputs from user for defining the shapes of array and splitting it:\n",
        "n, m = map(int, input().split())\n",
        "\n",
        "# appending first n integers into arr1_list for array:\n",
        "for _ in range(n):\n",
        "    arr_list.append(list(map(int, input().split())))\n",
        "\n",
        "# creating an array from `arr_list` list\n",
        "arr = np.array(arr_list)\n",
        "\n",
        "# computing the min of the array along axis 1 and then print the max of that result.\n",
        "print(np.max(np.min(arr, axis = 1)))"
      ],
      "execution_count": 6,
      "outputs": [
        {
          "output_type": "stream",
          "text": [
            "4 2\n",
            "2 5\n",
            "3 7\n",
            "1 3\n",
            "4 0\n",
            "3\n"
          ],
          "name": "stdout"
        }
      ]
    },
    {
      "cell_type": "markdown",
      "metadata": {
        "id": "I9ZuHirDFV6B"
      },
      "source": [
        "# 4. [Sum and Prod](https://www.hackerrank.com/challenges/np-sum-and-prod/problem) "
      ]
    },
    {
      "cell_type": "markdown",
      "metadata": {
        "id": "EJNEy3i1FbiF"
      },
      "source": [
        "## **sum**\n",
        "\n",
        "The sum tool returns the sum of array elements over a given axis.\n",
        "```python\n",
        "import numpy\n",
        "\n",
        "my_array = numpy.array([ [1, 2], [3, 4] ])\n",
        "\n",
        "print numpy.sum(my_array, axis = 0)         #Output : [4 6]\n",
        "print numpy.sum(my_array, axis = 1)         #Output : [3 7]\n",
        "print numpy.sum(my_array, axis = None)      #Output : 10\n",
        "print numpy.sum(my_array)                   #Output : 10\n",
        "```\n",
        "By default, the axis value is None. Therefore, it performs a sum over all the dimensions of the input array.\n",
        "\n",
        "## **prod**\n",
        "\n",
        "The prod tool returns the product of array elements over a given axis.\n",
        "```python\n",
        "import numpy\n",
        "\n",
        "my_array = numpy.array([ [1, 2], [3, 4] ])\n",
        "\n",
        "print numpy.prod(my_array, axis = 0)            #Output : [3 8]\n",
        "print numpy.prod(my_array, axis = 1)            #Output : [ 2 12]\n",
        "print numpy.prod(my_array, axis = None)         #Output : 24\n",
        "print numpy.prod(my_array)                      #Output : 24\n",
        "```\n",
        "By default, the axis value is None. Therefore, it performs the product over all the dimensions of the input array.\n",
        "\n",
        "---\n",
        "\n",
        "> **Task**\n",
        "\n",
        "You are given a 2-D array with dimensions N X M.\n",
        "Your task is to perform the sum tool over axis 0 and then find the product of that result.\n",
        "\n",
        "* **Input Format:**\n",
        "```\n",
        "The first line of input contains space separated values of N and M.\n",
        "The next N lines contains M space separated integers.\n",
        "```\n",
        "* **Output Format:**\n",
        "```\n",
        "Compute the sum along axis 0. Then, print the product of that sum.\n",
        "```\n",
        "* **Sample Input:**\n",
        "```\n",
        "2 2\n",
        "1 2\n",
        "3 4\n",
        "```\n",
        "* **Sample Output:**\n",
        "```\n",
        "24\n",
        "```\n",
        "* **Explanation:**\n",
        "```\n",
        "The sum along axis 0 = [4 6]\n",
        "The product of this sum = 24\n",
        "```"
      ]
    },
    {
      "cell_type": "markdown",
      "metadata": {
        "id": "90jB7po2F4_U"
      },
      "source": [
        "Answer\n",
        "---"
      ]
    },
    {
      "cell_type": "code",
      "metadata": {
        "id": "j87grDcrGAXU"
      },
      "source": [
        "# importing numpy:\n",
        "import numpy as np"
      ],
      "execution_count": 8,
      "outputs": []
    },
    {
      "cell_type": "code",
      "metadata": {
        "colab": {
          "base_uri": "https://localhost:8080/"
        },
        "id": "s92XXDv0ELoc",
        "outputId": "d456dbf8-0bd4-4491-d0e9-ec5743cfb27d"
      },
      "source": [
        "# I am not going to use second input so after taking the inputs and splitting them\n",
        "# I only defined the first integer input as n \n",
        "n, _ = map(int, input().split())\n",
        "\n",
        "# here used list comprehension for loops\n",
        "# at first taking first n integer inputs and splitting them for creating list\n",
        "# then applying map() function for defining the input values as integer data type\n",
        "# then using list() function for creating a list from defined map object\n",
        "# lastly creating an array from defined list\n",
        "arr = np.array([list(map(int, input().split())) for i in range(n)])\n",
        "\n",
        "# first applying sum() function on array along axis 0\n",
        "# then finding product of the result\n",
        "# lastly printing the result\n",
        "print(np.prod(np.sum(arr, axis = 0)))"
      ],
      "execution_count": 9,
      "outputs": [
        {
          "output_type": "stream",
          "text": [
            "2 2\n",
            "1 2\n",
            "3 4\n",
            "24\n"
          ],
          "name": "stdout"
        }
      ]
    }
  ]
}